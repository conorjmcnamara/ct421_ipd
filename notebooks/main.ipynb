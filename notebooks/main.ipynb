{
 "cells": [
  {
   "cell_type": "code",
   "execution_count": null,
   "metadata": {},
   "outputs": [],
   "source": [
    "CURR_DIR = \"..\""
   ]
  },
  {
   "cell_type": "markdown",
   "metadata": {},
   "source": [
    "## Imports"
   ]
  },
  {
   "cell_type": "code",
   "execution_count": null,
   "metadata": {},
   "outputs": [],
   "source": [
    "REQUIREMENTS_PATH = f\"{CURR_DIR}/requirements/requirements.txt\"\n",
    "\n",
    "!pip install -r {REQUIREMENTS_PATH}"
   ]
  },
  {
   "cell_type": "code",
   "execution_count": null,
   "metadata": {},
   "outputs": [],
   "source": [
    "%load_ext autoreload\n",
    "%autoreload 2"
   ]
  },
  {
   "cell_type": "code",
   "execution_count": null,
   "metadata": {},
   "outputs": [],
   "source": [
    "import sys; sys.path.append(CURR_DIR)\n",
    "import os\n",
    "from src.main import run_ga\n",
    "from src.utils.analysis import analyse_results\n",
    "from src.post_process_ipd import post_process_ipd"
   ]
  },
  {
   "cell_type": "markdown",
   "metadata": {},
   "source": [
    "## Experiments"
   ]
  },
  {
   "cell_type": "code",
   "execution_count": null,
   "metadata": {},
   "outputs": [],
   "source": [
    "run_ga(\n",
    "    curr_dir=CURR_DIR,\n",
    "    co_evolutions=[False]\n",
    ")"
   ]
  },
  {
   "cell_type": "code",
   "execution_count": null,
   "metadata": {},
   "outputs": [],
   "source": [
    "analyse_results(os.path.join(CURR_DIR, \"data/results/env_7/\"), plot_all=True)"
   ]
  },
  {
   "cell_type": "code",
   "execution_count": null,
   "metadata": {},
   "outputs": [],
   "source": [
    "memory_sizes = [2, 4]\n",
    "noise_rates = [0, 0.05, 0.1, 0.2]\n",
    "\n",
    "for memory_size in memory_sizes:\n",
    "    for noise_rate in noise_rates:\n",
    "        post_process_ipd(\n",
    "            os.path.join(CURR_DIR, f\"data/results/{memory_size}_{noise_rate}_post_process_results.json\"),\n",
    "            os.path.join(CURR_DIR, f\"data/results/env_7/{memory_size}_mem_75_pop_0.8_single_point_crossover_0.05_bit_flip_mutation_{noise_rate}_noise_False_co-evolution.json\"),\n",
    "            memory_size=memory_size,\n",
    "            noise_rate=noise_rate\n",
    "        )"
   ]
  }
 ],
 "metadata": {
  "kernelspec": {
   "display_name": "Python 3",
   "language": "python",
   "name": "python3"
  },
  "language_info": {
   "codemirror_mode": {
    "name": "ipython",
    "version": 3
   },
   "file_extension": ".py",
   "mimetype": "text/x-python",
   "name": "python",
   "nbconvert_exporter": "python",
   "pygments_lexer": "ipython3",
   "version": "3.10.6"
  }
 },
 "nbformat": 4,
 "nbformat_minor": 2
}
