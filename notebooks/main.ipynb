{
 "cells": [
  {
   "cell_type": "code",
   "execution_count": null,
   "metadata": {},
   "outputs": [],
   "source": [
    "CURR_DIR = \"..\""
   ]
  },
  {
   "cell_type": "markdown",
   "metadata": {},
   "source": [
    "## Imports"
   ]
  },
  {
   "cell_type": "code",
   "execution_count": null,
   "metadata": {},
   "outputs": [],
   "source": [
    "REQUIREMENTS_PATH = f\"{CURR_DIR}/requirements/requirements.txt\"\n",
    "\n",
    "!pip install -r {REQUIREMENTS_PATH}"
   ]
  },
  {
   "cell_type": "code",
   "execution_count": null,
   "metadata": {},
   "outputs": [],
   "source": [
    "%load_ext autoreload\n",
    "%autoreload 2"
   ]
  },
  {
   "cell_type": "code",
   "execution_count": null,
   "metadata": {},
   "outputs": [],
   "source": [
    "import sys; sys.path.append(CURR_DIR)\n",
    "import os\n",
    "from src.main import run_ga\n",
    "from src.utils.analysis import analyse_results\n",
    "from src.post_process_ipd import post_process_ipd"
   ]
  },
  {
   "cell_type": "markdown",
   "metadata": {},
   "source": [
    "## Experiments"
   ]
  },
  {
   "cell_type": "code",
   "execution_count": null,
   "metadata": {},
   "outputs": [],
   "source": [
    "from src.ga.strategies import (\n",
    "    AlwaysCooperate,\n",
    "    AlwaysDefect,\n",
    "    TitForTat,\n",
    "    RandomStrategy,\n",
    "    TitForTwoTats,\n",
    "    GrimTrigger\n",
    ")\n",
    "\n",
    "# run_ga(\n",
    "#     curr_dir=CURR_DIR,\n",
    "#     population_sizes=[75],\n",
    "#     crossover_rates=[0.8],\n",
    "#     mutation_rates=[0.05],\n",
    "#     elitism_rate=0.17,\n",
    "#     tournament_size=5,\n",
    "#     opponent_environments=[\n",
    "#         [AlwaysCooperate, AlwaysDefect, TitForTat, RandomStrategy, TitForTwoTats, GrimTrigger]\n",
    "#     ],\n",
    "#     memory_size=3,\n",
    "#     noise_rates=[0],\n",
    "#     co_evolutions=[True]\n",
    "# )\n",
    "\n",
    "# run_ga(\n",
    "#     curr_dir=CURR_DIR,\n",
    "#     population_sizes=[75],\n",
    "#     crossover_rates=[0.8],\n",
    "#     mutation_rates=[0.1],\n",
    "#     elitism_rate=0.05,\n",
    "#     tournament_size=3,\n",
    "#     opponent_environments=[\n",
    "#         [AlwaysCooperate, AlwaysDefect, TitForTat, RandomStrategy, TitForTwoTats, GrimTrigger]\n",
    "#     ],\n",
    "#     memory_size=3,\n",
    "#     noise_rates=[0],\n",
    "#     co_evolutions=[True]\n",
    "# )"
   ]
  },
  {
   "cell_type": "code",
   "execution_count": null,
   "metadata": {},
   "outputs": [],
   "source": [
    "analyse_results(os.path.join(CURR_DIR, \"data/results/co-evo/env_0/\"))"
   ]
  },
  {
   "cell_type": "code",
   "execution_count": null,
   "metadata": {},
   "outputs": [],
   "source": [
    "post_process_ipd(\n",
    "    os.path.join(CURR_DIR, \"data/results/post_process_results.json\"),\n",
    "    os.path.join(CURR_DIR, \"data/results/env_4/\")\n",
    ")"
   ]
  }
 ],
 "metadata": {
  "kernelspec": {
   "display_name": "Python 3",
   "language": "python",
   "name": "python3"
  },
  "language_info": {
   "codemirror_mode": {
    "name": "ipython",
    "version": 3
   },
   "file_extension": ".py",
   "mimetype": "text/x-python",
   "name": "python",
   "nbconvert_exporter": "python",
   "pygments_lexer": "ipython3",
   "version": "3.10.6"
  }
 },
 "nbformat": 4,
 "nbformat_minor": 2
}
